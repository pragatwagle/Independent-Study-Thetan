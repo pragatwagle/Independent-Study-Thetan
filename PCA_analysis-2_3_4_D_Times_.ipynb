{
  "cells": [
    {
      "cell_type": "markdown",
      "metadata": {
        "colab_type": "text",
        "id": "_dhYUDq9u6lY"
      },
      "source": [
        "# **(PCA) of multidimensional points **\n",
        "\n",
        "\n",
        "In this Jupyter notebook, we will be performing Principal Component Analysis (PCA) using the points provided is exp_2d_blobs using the easy approach."
      ]
    },
    {
      "cell_type": "code",
      "execution_count": 1,
      "metadata": {
        "colab": {},
        "colab_type": "code",
        "id": "J46-WhoNwu1M"
      },
      "outputs": [],
      "source": [
        "from time import time\n",
        "\n",
        "import numpy as np\n",
        "import matplotlib.pyplot as plt\n",
        "\n",
        "from sklearn import cluster, datasets, mixture\n",
        "from sklearn.neighbors import kneighbors_graph\n",
        "from sklearn.preprocessing import StandardScaler\n",
        "from itertools import cycle, islice\n",
        "from sklearn.datasets import make_blobs\n",
        "import pylab as pl\n",
        "from sklearn.cluster import Birch, MiniBatchKMeans\n",
        "from sklearn.mixture import GaussianMixture\n",
        "# from robotikos.metric import IdentityFeature\n",
        "# from robotikos.metric import (NormalizedSumSquaredDiffMetric,\n",
        "#                               NormalizedSumAbsDiffMetric)\n",
        "from thetan.theta import theta_g1, assign\n",
        "from thetan.theta import distance_matrix as tdm\n",
        "from sklearn.cluster import KMeans\n",
        "from sklearn.metrics import normalized_mutual_info_score, silhouette_score, fowlkes_mallows_score\n",
        "\n",
        "import plotly.express as px\n",
        "import plotly.graph_objects as go\n",
        "import pandas as pd"
      ]
    },
    {
      "cell_type": "code",
      "execution_count": 2,
      "metadata": {},
      "outputs": [],
      "source": [
        "thetanTimes = []\n",
        "kmeans_plus_plus_Times = []\n",
        "xDimensions = ['2d', '3d', '4d']"
      ]
    },
    {
      "cell_type": "markdown",
      "metadata": {},
      "source": [
        "### Accuracy with 2d data "
      ]
    },
    {
      "cell_type": "code",
      "execution_count": 3,
      "metadata": {},
      "outputs": [
        {
          "name": "stdout",
          "output_type": "stream",
          "text": [
            "Before shuffling\n",
            "[[-49.82423841 -49.57698988]\n",
            " [-49.32053355 -49.3774753 ]\n",
            " [-51.04363277 -50.47659885]\n",
            " [-50.49381867 -49.52490695]\n",
            " [-51.02254585 -50.25488824]\n",
            " [-49.75144654 -49.01478515]\n",
            " [-49.78166457 -49.49040432]\n",
            " [-49.27668696 -48.90425981]\n",
            " [-49.40038053 -48.99073031]\n",
            " [-50.83539395 -50.79084724]]\n",
            "After shuffling\n",
            "[[ 39.94199216  29.02387999]\n",
            " [ -8.93618683   9.75261883]\n",
            " [-30.24885492  18.70665605]\n",
            " [ 29.61377741  22.04219617]\n",
            " [-30.44052924 -50.34020456]\n",
            " [ -1.00029078  31.22880559]\n",
            " [-40.19961186   1.00984905]\n",
            " [-51.72140653 -10.78097388]\n",
            " [-39.49410708  18.21124207]\n",
            " [ 21.10892579  18.16459091]]\n",
            "Number of points  (3000, 2)\n",
            "Number of gold centroids  100\n",
            "kmeans++  0.046630859375\n",
            "tm  0.0026121139526367188\n",
            "Speedup 17.851770719240598\n"
          ]
        }
      ],
      "source": [
        "    evaluation_thr = 0.1\n",
        "    verbose = True\n",
        "    show_thr = False\n",
        "    radius = 4\n",
        "    n_local_samples = 30\n",
        "    blob_dis = 33\n",
        "    cluster_per_dim = 10\n",
        "    scores = {}\n",
        "    timings = {}\n",
        "    blob_dis = 10\n",
        "    cluster_x = 10\n",
        "    cluster_y = 10\n",
        "    \n",
        "    xx = np.arange(-1*blob_dis*cluster_x//2, blob_dis*cluster_x//2, blob_dis)\n",
        "    yy = np.arange(-1*blob_dis*cluster_y//2, blob_dis*cluster_y//2, blob_dis)\n",
        "\n",
        "    xx, yy = np.meshgrid(xx, yy)\n",
        "    n_centres = np.hstack((np.ravel(xx)[:, np.newaxis],\n",
        "                        np.ravel(yy)[:, np.newaxis]))\n",
        "\n",
        "\n",
        "\n",
        "    gt_centroids = []\n",
        "    X = np.zeros((n_local_samples * n_centres.shape[0], 2))\n",
        "    y = np.zeros((n_local_samples * n_centres.shape[0]), dtype=np.int16)\n",
        "    for i in range(n_centres.shape[0]):\n",
        "        cpos = n_centres[i]\n",
        "\n",
        "        local_X = cpos + np.random.normal(0, 1, (n_local_samples, 2))\n",
        "        X[i * n_local_samples: (i + 1) * n_local_samples] = local_X\n",
        "        y[i * n_local_samples: (i + 1) * n_local_samples] = i\n",
        "        gt_centroids.append(local_X.mean(axis=0))\n",
        "\n",
        "    gt_centroids = np.array(gt_centroids)\n",
        "\n",
        "    points = X\n",
        "    labels = y\n",
        "    sz = len(n_centres)\n",
        "\n",
        "    centroids = gt_centroids\n",
        "    \n",
        "    print('Before shuffling')\n",
        "    print(points[:10])\n",
        "\n",
        "    points_idx = np.arange(np.shape(points)[0])\n",
        "    np.random.shuffle(points_idx)\n",
        "    new_points = np.zeros(np.shape(points))\n",
        "    new_labels = np.zeros(np.shape(labels))\n",
        "    for i, idx in zip(range(np.shape(points)[0]), points_idx):\n",
        "        new_points[i] = points[idx]\n",
        "        new_labels[i] = labels[idx]\n",
        "\n",
        "    points = new_points\n",
        "    labels2d = new_labels\n",
        "    points2d = points.copy();\n",
        "    print('After shuffling')\n",
        "    print(points[:10])\n",
        "\n",
        "    print('Number of points ', points.shape)\n",
        "\n",
        "    print('Number of gold centroids ', np.prod(sz))\n",
        "\n",
        "    # kmeans ++ \n",
        "    t1 = time()\n",
        "    kmeans = KMeans(n_clusters=np.prod(sz), init='k-means++', n_init=1,\n",
        "                    max_iter=300, tol=0.0001, random_state=0).fit(points)\n",
        "    t2 = time()\n",
        "\n",
        "    kmeans_time = t2 - t1\n",
        "    print('kmeans++ ', kmeans_time)\n",
        "\n",
        "    kcentroids2d = kmeans.cluster_centers_\n",
        "    klabels2d = kmeans.labels_\n",
        "    \n",
        "    \n",
        "    # if verbose:\n",
        "    #     plot_centroids_clusters(points, kcentroids, klabels,\n",
        "    #                             'kmeans++', exp_type,\n",
        "    #                             initial_centroids=centroids)\n",
        "\n",
        "    # scores['kmeans++'] = {}\n",
        "    # for mode in modes:\n",
        "    #     if mode == 'SIL':\n",
        "    #         scores['kmeans++'][mode] = evaluate_centroids(thr=evaluation_thr, mode=mode, X=points, label=klabels)\n",
        "    #     elif mode == 'NMI' or mode == 'FMS' or mode == 'RAI':\n",
        "    #         scores['kmeans++'][mode] = evaluate_centroids(thr=evaluation_thr, mode=mode, label=klabels, true_label=labels)\n",
        "    #     elif mode == 'SSD':\n",
        "    #         scores['kmeans++'][mode] = evaluate_centroids(kcentroids, centroids, evaluation_thr, mode=mode)\n",
        "    # timings['kmeans++'] = kmeans_time\n",
        "\n",
        "    tmp = 0\n",
        "    \n",
        "    #thetan\n",
        "    theta = 6.0\n",
        "\n",
        "    t1 = time()\n",
        "    tcentroids2d, tlabels2d = theta_g1(points, theta=theta,)\n",
        "\n",
        "    t2 = time()\n",
        "\n",
        "    tm_time = t2 - t1\n",
        "    thetanTimes.append(tm_time)\n",
        "    kmeans_plus_plus_Times.append(kmeans_time)\n",
        "\n",
        "    print('tm ', tm_time)\n",
        "    print('Speedup', kmeans_time/tm_time)\n",
        "\n",
        "\n"
      ]
    },
    {
      "cell_type": "markdown",
      "metadata": {},
      "source": [
        "### Load 3d data from exp_2d_blobs test.py"
      ]
    },
    {
      "cell_type": "code",
      "execution_count": 4,
      "metadata": {},
      "outputs": [
        {
          "name": "stdout",
          "output_type": "stream",
          "text": [
            "Before shuffling\n",
            "[[-75.63324748 -74.11857421 -73.81954071]\n",
            " [-76.46045383 -74.80641786 -75.87622839]\n",
            " [-74.73635757 -74.49598303 -74.71030783]\n",
            " [-76.74272324 -76.60409178 -74.08186727]\n",
            " [-75.18465871 -73.99519688 -75.15498117]\n",
            " [-75.67005946 -74.71774758 -76.86473697]\n",
            " [-74.91016133 -75.06769776 -73.9336271 ]\n",
            " [-74.63657632 -74.19328785 -74.33122137]\n",
            " [-75.01439576 -75.7922264  -76.01362796]\n",
            " [-74.27757322 -75.21628943 -75.53008243]]\n",
            "After shuffling\n",
            "[[-75.63324748 -74.11857421 -73.81954071]\n",
            " [-76.46045383 -74.80641786 -75.87622839]\n",
            " [-74.73635757 -74.49598303 -74.71030783]\n",
            " [-76.74272324 -76.60409178 -74.08186727]\n",
            " [-75.18465871 -73.99519688 -75.15498117]\n",
            " [-75.67005946 -74.71774758 -76.86473697]\n",
            " [-74.91016133 -75.06769776 -73.9336271 ]\n",
            " [-74.63657632 -74.19328785 -74.33122137]\n",
            " [-75.01439576 -75.7922264  -76.01362796]\n",
            " [-74.27757322 -75.21628943 -75.53008243]]\n",
            "kmeans++  1.7964518070220947\n",
            "tm  0.10676002502441406\n"
          ]
        }
      ],
      "source": [
        "verbose = True\n",
        "show_thr = False\n",
        "evaluation_thr = 0.1\n",
        "radius = 4\n",
        "n_local_samples = 30\n",
        "blob_dis = 33\n",
        "cluster_per_dim = 10\n",
        "blob_dis = 15\n",
        "cluster_x = 10\n",
        "cluster_y = 10\n",
        "cluster_z = 10\n",
        "numberOfDimensions = 3\n",
        "#measurement for centroid accuracy\n",
        "#should be one 1000 clusters in 3dimensions \n",
        "xx = np.arange(-1*blob_dis*cluster_x//2, blob_dis*cluster_x//2, blob_dis)\n",
        "yy = np.arange(-1*blob_dis*cluster_y//2, blob_dis*cluster_y//2, blob_dis)\n",
        "zz = np.arange(-1*blob_dis*cluster_z//2, blob_dis*cluster_z//2, blob_dis)\n",
        "\n",
        "xx, yy, zz = np.meshgrid(xx, yy, zz )\n",
        "#of centers should be 1000\n",
        "n_centres = np.hstack((np.ravel(xx)[:, np.newaxis],\n",
        "                    np.ravel(yy)[:, np.newaxis], \n",
        "                    np.ravel(zz)[:,np.newaxis]))\n",
        "\n",
        "\n",
        "\n",
        "gt_centroids = []\n",
        "#here the number of dimensions is increased to 3 \n",
        "# X = np.zeros((n_local_samples * n_centres.shape[0], 3))\n",
        "X = np.zeros((n_local_samples * n_centres.shape[0], numberOfDimensions))\n",
        "y = np.zeros((n_local_samples * n_centres.shape[0]), dtype=np.int16)\n",
        "for i in range(n_centres.shape[0]):\n",
        "    cpos = n_centres[i]\n",
        "\n",
        "    local_X = cpos + np.random.normal(0, 1, (n_local_samples, numberOfDimensions))\n",
        "    X[i * n_local_samples: (i + 1) * n_local_samples] = local_X\n",
        "    y[i * n_local_samples: (i + 1) * n_local_samples] = i\n",
        "    gt_centroids.append(local_X.mean(axis=0))\n",
        "\n",
        "gt_centroids = np.array(gt_centroids)\n",
        "\n",
        "points = X\n",
        "points3d = points.copy();\n",
        "\n",
        "labels = y\n",
        "sz = len(n_centres)\n",
        "\n",
        "centroids = gt_centroids\n",
        "#put everything one line \n",
        "#goal for next week \n",
        "#plot X and y and attempt to plot up to 5 6 dimensions \n",
        "#create a function to return experiment set up \n",
        "\n",
        "\n",
        "\n",
        "\n",
        "print('Before shuffling')\n",
        "print(points[:10])\n",
        "\n",
        "points_idx = np.arange(np.shape(points)[0])\n",
        "np.random.shuffle(points_idx)\n",
        "new_points = np.zeros(np.shape(points))\n",
        "new_labels = np.zeros(np.shape(labels))\n",
        "for i, idx in zip(range(np.shape(points)[0]), points_idx):\n",
        "    new_points[i] = points[idx]\n",
        "    new_labels[i] = labels[idx]\n",
        "\n",
        "points3d = new_points\n",
        "labels3d = new_labels\n",
        "\n",
        "print('After shuffling')\n",
        "print(points[:10])\n",
        "dfPoints = pd.DataFrame(points, columns = ['X','Y','Z'])\n",
        "\n",
        "\n",
        "t1 = time()\n",
        "kmeans = KMeans(n_clusters=np.prod(sz), init='k-means++', n_init=1,\n",
        "                max_iter=300, tol=0.0001, random_state=0).fit(points)\n",
        "t2 = time()\n",
        "\n",
        "kmeans_time = t2 - t1\n",
        "print('kmeans++ ', kmeans_time)\n",
        "\n",
        "kcentroids3d = kmeans.cluster_centers_\n",
        "klabels3d = kmeans.labels_\n",
        "tmp = 0\n",
        "\n",
        "\n",
        "#calculating theta centroids\n",
        "theta = 6.0\n",
        "\n",
        "t1 = time()\n",
        "tcentroids3d, tlabels3d = theta_g1(points, theta=theta,)\n",
        "t2 = time()\n",
        "\n",
        "tm_time = t2 - t1\n",
        "print('tm ', tm_time)\n",
        "\n",
        "thetanTimes.append(tm_time);\n",
        "kmeans_plus_plus_Times.append(kmeans_time)\n",
        "\n"
      ]
    },
    {
      "cell_type": "markdown",
      "metadata": {},
      "source": [
        "### Load 4d data from exp_2d_blobs test.py"
      ]
    },
    {
      "cell_type": "code",
      "execution_count": 5,
      "metadata": {},
      "outputs": [
        {
          "name": "stdout",
          "output_type": "stream",
          "text": [
            "10000\n",
            "Before shuffling\n",
            "[[-75.83339399 -75.29847891 -75.28239946 -75.13699542]\n",
            " [-75.38803579 -74.71197244 -74.54788613 -74.64507363]\n",
            " [-75.68327822 -73.23731943 -73.75106345 -74.91168181]\n",
            " [-74.41524817 -74.50952303 -74.9817253  -74.24495374]\n",
            " [-74.80113069 -75.9519357  -74.66493725 -73.96005406]\n",
            " [-74.60586606 -75.88999709 -72.94364728 -74.36222634]\n",
            " [-75.1739447  -75.05547965 -74.89385927 -74.72268632]\n",
            " [-74.14105423 -73.76617473 -74.66644285 -73.37793742]\n",
            " [-75.9400668  -74.72528637 -74.70169228 -74.80607258]\n",
            " [-74.16597994 -74.68342612 -74.95572899 -74.93817893]]\n",
            "After shuffling\n",
            "[[-75.83339399 -75.29847891 -75.28239946 -75.13699542]\n",
            " [-75.38803579 -74.71197244 -74.54788613 -74.64507363]\n",
            " [-75.68327822 -73.23731943 -73.75106345 -74.91168181]\n",
            " [-74.41524817 -74.50952303 -74.9817253  -74.24495374]\n",
            " [-74.80113069 -75.9519357  -74.66493725 -73.96005406]\n",
            " [-74.60586606 -75.88999709 -72.94364728 -74.36222634]\n",
            " [-75.1739447  -75.05547965 -74.89385927 -74.72268632]\n",
            " [-74.14105423 -73.76617473 -74.66644285 -73.37793742]\n",
            " [-75.9400668  -74.72528637 -74.70169228 -74.80607258]\n",
            " [-74.16597994 -74.68342612 -74.95572899 -74.93817893]]\n",
            "kmeans++  398.06059288978577\n",
            "tm  6.355423927307129\n"
          ]
        }
      ],
      "source": [
        "verbose = True\n",
        "show_thr = False\n",
        "evaluation_thr = 0.1\n",
        "radius = 4\n",
        "n_local_samples = 30\n",
        "blob_dis = 33\n",
        "cluster_per_dim = 10\n",
        "blob_dis = 15\n",
        "cluster_x = 10\n",
        "cluster_y = 10\n",
        "cluster_z = 10\n",
        "cluster_u = 10\n",
        "numberOfDimensions = 4\n",
        "#measurement for centroid accuracy\n",
        "#should be one 1000 clusters in 3dimensions \n",
        "xx = np.arange(-1*blob_dis*cluster_x//2, blob_dis*cluster_x//2, blob_dis)\n",
        "yy = np.arange(-1*blob_dis*cluster_y//2, blob_dis*cluster_y//2, blob_dis)\n",
        "zz = np.arange(-1*blob_dis*cluster_z//2, blob_dis*cluster_z//2, blob_dis)\n",
        "uu = np.arange(-1*blob_dis*cluster_u//2, blob_dis*cluster_u//2, blob_dis)\n",
        "\n",
        "xx, yy, zz, uu = np.meshgrid(xx, yy, zz, uu)\n",
        "#of centers should be 1000\n",
        "n_centres = np.hstack((np.ravel(xx)[:, np.newaxis],\n",
        "                    np.ravel(yy)[:, np.newaxis], \n",
        "                    np.ravel(zz)[:,np.newaxis],\n",
        "                    np.ravel(uu)[:,np.newaxis]))\n",
        "\n",
        "\n",
        "\n",
        "gt_centroids = []\n",
        "#here the number of dimensions is increased to 3 \n",
        "# X = np.zeros((n_local_samples * n_centres.shape[0], 3))\n",
        "X = np.zeros((n_local_samples * n_centres.shape[0], numberOfDimensions))\n",
        "y = np.zeros((n_local_samples * n_centres.shape[0]), dtype=np.int16)\n",
        "for i in range(n_centres.shape[0]):\n",
        "    cpos = n_centres[i]\n",
        "\n",
        "    local_X = cpos + np.random.normal(0, 1, (n_local_samples, numberOfDimensions))\n",
        "    X[i * n_local_samples: (i + 1) * n_local_samples] = local_X\n",
        "    y[i * n_local_samples: (i + 1) * n_local_samples] = i\n",
        "    gt_centroids.append(local_X.mean(axis=0))\n",
        "\n",
        "gt_centroids = np.array(gt_centroids)\n",
        "\n",
        "points = X\n",
        "points4d = points.copy();\n",
        "\n",
        "labels = y\n",
        "sz = len(n_centres)\n",
        "print(sz)\n",
        "centroids = gt_centroids\n",
        "#put everything one line \n",
        "#goal for next week \n",
        "#plot X and y and attempt to plot up to 5 6 dimensions \n",
        "#create a function to return experiment set up \n",
        "\n",
        "\n",
        "\n",
        "\n",
        "print('Before shuffling')\n",
        "print(points[:10])\n",
        "\n",
        "points_idx = np.arange(np.shape(points)[0])\n",
        "np.random.shuffle(points_idx)\n",
        "new_points = np.zeros(np.shape(points))\n",
        "new_labels = np.zeros(np.shape(labels))\n",
        "for i, idx in zip(range(np.shape(points)[0]), points_idx):\n",
        "    new_points[i] = points[idx]\n",
        "    new_labels[i] = labels[idx]\n",
        "\n",
        "points4d = new_points\n",
        "labels4d = new_labels\n",
        "\n",
        "print('After shuffling')\n",
        "print(points[:10])\n",
        "\n",
        "t1 = time()\n",
        "kmeans = KMeans(n_clusters=np.prod(sz), init='k-means++', n_init=1,\n",
        "                max_iter=300, tol=0.0001, random_state=0).fit(points)\n",
        "t2 = time()\n",
        "\n",
        "kmeans_time = t2 - t1\n",
        "print('kmeans++ ', kmeans_time)\n",
        "\n",
        "kcentroids4d = kmeans.cluster_centers_\n",
        "klabels4d = kmeans.labels_\n",
        "tmp = 0\n",
        "\n",
        "\n",
        "#calculating theta centroids\n",
        "theta = 6.0\n",
        "\n",
        "t1 = time()\n",
        "tcentroids4d, tlabels4d = theta_g1(points, theta=theta,)\n",
        "t2 = time()\n",
        "\n",
        "tm_time = t2 - t1\n",
        "print('tm ', tm_time)\n",
        "thetanTimes.append(tm_time);\n",
        "kmeans_plus_plus_Times.append(kmeans_time)\n",
        "\n",
        "# dfTCentroids = pd.DataFrame(tcentroids, columns = ['X','Y','Z', 'U'])\n",
        "# dfKCentroids = pd.DataFrame(kcentroids, columns = ['X','Y','Z', 'U'])\n",
        "# # print(dfTCentroids)\n",
        "# dftlabels = pd.DataFrame(tlabels)\n",
        "# dfPoints['tlabel'] = dftlabels\n",
        "# dfklabels = pd.DataFrame(klabels)\n",
        "# dfPoints['klabel'] = dfklabels\n",
        "# dfPoints.head()"
      ]
    },
    {
      "cell_type": "code",
      "execution_count": 6,
      "metadata": {},
      "outputs": [
        {
          "name": "stdout",
          "output_type": "stream",
          "text": [
            "thetanTimes\n",
            "[0.0026121139526367188, 0.10676002502441406, 6.355423927307129]\n",
            "kmeans_plus_plus_Times\n",
            "[0.046630859375, 1.7964518070220947, 398.06059288978577]\n"
          ]
        }
      ],
      "source": [
        "\n",
        "print('thetanTimes')\n",
        "print(thetanTimes)\n",
        "print('kmeans_plus_plus_Times')\n",
        "print(kmeans_plus_plus_Times)"
      ]
    },
    {
      "cell_type": "code",
      "execution_count": 7,
      "metadata": {},
      "outputs": [
        {
          "data": {
            "image/png": "[encoded data removed]",
            "text/plain": [
              "<Figure size 432x288 with 1 Axes>"
            ]
          },
          "metadata": {
            "needs_background": "light"
          },
          "output_type": "display_data"
        }
      ],
      "source": [
        "import matplotlib.pyplot as plt\n",
        "\n",
        "plt.plot(xDimensions, thetanTimes, color= 'green' )\n",
        "# plt.legend(['Thetan Times'], ['Kmeans ++ Times'])\n",
        "plt.plot(xDimensions, kmeans_plus_plus_Times, color= 'red')\n",
        "plt.legend([\"Thetan Times\", \"Kmeans ++ Times\"], loc =\"upper left\")\n",
        "\n",
        "plt.ylabel('Time in milliseconds')\n",
        "plt.xlabel('Dimensions')\n",
        "plt.title(\"KmeansPlusPlus vs Thetan Time By Dimension\")\n",
        "\n",
        "plt.show()"
      ]
    },
    {
      "cell_type": "code",
      "execution_count": 29,
      "metadata": {},
      "outputs": [
        {
          "name": "stdout",
          "output_type": "stream",
          "text": [
            "0.9977795922619891\n"
          ]
        }
      ],
      "source": [
        "kmeansnmi = []\n",
        "kmeanssil = []\n",
        "kmeansfms = []\n",
        "thetannmi = []\n",
        "thetansil = []\n",
        "thetanfms = []\n",
        "\n",
        "from sklearn.metrics import normalized_mutual_info_score, silhouette_score, fowlkes_mallows_score\n",
        "\n",
        "nmiScoreK2D = normalized_mutual_info_score(labels2d, klabels2d)\n",
        "print(nmiScoreK2D)\n",
        "silScoreK2D = silhouette_score(points2d, klabels2d)\n",
        "fmsScoreK2D = fowlkes_mallows_score(labels2d, klabels2d)\n",
        "nmiScoreT2D = normalized_mutual_info_score(labels2d, tlabels2d)\n",
        "silScoreT2D = silhouette_score(points2d, tlabels2d)\n",
        "fmsScoreT2D = fowlkes_mallows_score(labels2d, tlabels2d)\n",
        "kmeansnmi.append(nmiScoreK2D)\n",
        "kmeanssil.append(silScoreK2D)\n",
        "kmeansfms.append(fmsScoreK2D)\n",
        "thetannmi.append(nmiScoreT2D)\n",
        "thetansil.append(fmsScoreT2D)\n",
        "thetanfms.append(fmsScoreT2D)\n"
      ]
    },
    {
      "cell_type": "code",
      "execution_count": 30,
      "metadata": {},
      "outputs": [],
      "source": [
        "from sklearn.metrics import normalized_mutual_info_score, silhouette_score, fowlkes_mallows_score\n",
        "\n",
        "nmiScoreK3D = normalized_mutual_info_score(labels3d, klabels3d)\n",
        "silScoreK3D = silhouette_score(points3d, klabels3d)\n",
        "fmsScoreK3D = fowlkes_mallows_score(labels3d, klabels3d)\n",
        "nmiScoreT3D = normalized_mutual_info_score(labels3d ,tlabels3d)\n",
        "silScoreT3D = silhouette_score(points3d, tlabels3d)\n",
        "fmsScoreT3D = fowlkes_mallows_score(labels3d, tlabels3d)\n",
        "kmeansnmi.append(nmiScoreK3D)\n",
        "kmeanssil.append(silScoreK3D)\n",
        "kmeansfms.append(fmsScoreK3D)\n",
        "thetannmi.append(nmiScoreT3D)\n",
        "thetansil.append(silScoreT3D)\n",
        "thetanfms.append(fmsScoreT3D)"
      ]
    },
    {
      "cell_type": "code",
      "execution_count": null,
      "metadata": {},
      "outputs": [],
      "source": []
    },
    {
      "cell_type": "code",
      "execution_count": 21,
      "metadata": {},
      "outputs": [
        {
          "data": {
            "image/png": "[encoded data removed]",
            "text/plain": [
              "<Figure size 432x288 with 1 Axes>"
            ]
          },
          "metadata": {
            "needs_background": "light"
          },
          "output_type": "display_data"
        }
      ],
      "source": [
        "import matplotlib.pyplot as plt\n",
        "xDimensions2 = ['2d', '3d']\n",
        "plt.plot(xDimensions2, kmeansnmi, color= 'green' )\n",
        "plt.plot(xDimensions2, kmeanssil, color= 'red')\n",
        "plt.plot(xDimensions2, kmeansfms, color= 'blue')\n",
        "plt.plot(xDimensions2, thetannmi, color= 'pink')\n",
        "plt.plot(xDimensions2, thetansil, color= 'yellow')\n",
        "plt.plot(xDimensions2, thetanfms, color= 'black')\n",
        "# plt.plot(xDimensions2, kmeans_plus_plus_Times, color= 'red')\n",
        "plt.legend([\"kmeansnmi\", \"kmeanssil\",\"kmeansfms\", \"thetannmi\",\"thetansil\", \"thetanfms\"], loc =\"upper left\")\n",
        "\n",
        "plt.ylabel('Scores')\n",
        "plt.xlabel('Dimensions')\n",
        "plt.title(\"NMI, FMS, SIL Scores by Dimensions\")\n",
        "\n",
        "plt.show()"
      ]
    },
    {
      "cell_type": "code",
      "execution_count": 23,
      "metadata": {},
      "outputs": [],
      "source": [
        "from sklearn.metrics import normalized_mutual_info_score, silhouette_score, fowlkes_mallows_score\n",
        "\n",
        "nmiScoreK4D = normalized_mutual_info_score(labels4d, klabels4d)\n",
        "silScoreK4D = silhouette_score(points4d, klabels4d)\n",
        "fmsScoreK4D = fowlkes_mallows_score(labels4d, klabels4d)\n",
        "nmiScoreT4D = normalized_mutual_info_score(labels4d, tlabels4d)\n",
        "silScoreT4D = silhouette_score(points4d, tlabels4d)\n",
        "fmsScoreT4D = fowlkes_mallows_score(labels4d, tlabels4d)\n",
        "kmeansnmi.append(nmiScoreK4D)\n",
        "kmeanssil.append(silScoreK4D)\n",
        "kmeansfms.append(fmsScoreK4D)\n",
        "thetannmi.append(nmiScoreT4D)\n",
        "thetansil.append(silScoreT4D)\n",
        "thetanfms.append(fmsScoreT4D)\n"
      ]
    },
    {
      "cell_type": "code",
      "execution_count": 31,
      "metadata": {},
      "outputs": [],
      "source": [
        "kmeansnmi.append(nmiScoreK4D)\n",
        "kmeanssil.append(silScoreK4D)\n",
        "kmeansfms.append(fmsScoreK4D)\n",
        "thetannmi.append(nmiScoreT4D)\n",
        "thetansil.append(silScoreT4D)\n",
        "thetanfms.append(fmsScoreT4D)"
      ]
    },
    {
      "cell_type": "code",
      "execution_count": 32,
      "metadata": {},
      "outputs": [
        {
          "name": "stdout",
          "output_type": "stream",
          "text": [
            "[0.9977795922619891, 0.5101584918824632, 0.6306693772544082]\n"
          ]
        }
      ],
      "source": [
        "print(kmeansnmi)"
      ]
    },
    {
      "cell_type": "code",
      "execution_count": 33,
      "metadata": {},
      "outputs": [
        {
          "data": {
            "image/png": "[encoded data removed]",
            "text/plain": [
              "<Figure size 432x288 with 1 Axes>"
            ]
          },
          "metadata": {
            "needs_background": "light"
          },
          "output_type": "display_data"
        }
      ],
      "source": [
        "import matplotlib.pyplot as plt\n",
        "xDimensions2 = ['2d', '3d', '4d']\n",
        "plt.plot(xDimensions2, kmeansnmi, color= 'green' )\n",
        "plt.plot(xDimensions2, kmeanssil, color= 'red')\n",
        "plt.plot(xDimensions2, kmeansfms, color= 'blue')\n",
        "plt.plot(xDimensions2, thetannmi, color= 'pink')\n",
        "plt.plot(xDimensions2, thetansil, color= 'yellow')\n",
        "plt.plot(xDimensions2, thetanfms, color= 'black')\n",
        "# plt.plot(xDimensions2, kmeans_plus_plus_Times, color= 'red')\n",
        "plt.legend([\"kmeansnmi\", \"kmeanssil\",\"kmeansfms\", \"thetannmi\",\"thetansil\", \"thetanfms\"], loc =\"upper left\")\n",
        "\n",
        "plt.ylabel('Scores')\n",
        "plt.xlabel('Dimensions')\n",
        "plt.title(\"NMI, FMS, SIL Scores by Dimensions\")\n",
        "\n",
        "plt.show()"
      ]
    }
  ],
  "metadata": {
    "colab": {
      "collapsed_sections": [
        "993wzT_Qu6ld",
        "zIEVV6ilwmd-",
        "epeccObO2_mi",
        "OB_LvOxNW5Wx",
        "ZtIDXw_AfOwW"
      ],
      "name": "PCA-analysis.ipynb",
      "provenance": []
    },
    "kernelspec": {
      "display_name": "Python 3",
      "language": "python",
      "name": "python3"
    },
    "language_info": {
      "codemirror_mode": {
        "name": "ipython",
        "version": 3
      },
      "file_extension": ".py",
      "mimetype": "text/x-python",
      "name": "python",
      "nbconvert_exporter": "python",
      "pygments_lexer": "ipython3",
      "version": "3.7.0"
    }
  },
  "nbformat": 4,
  "nbformat_minor": 0
}
